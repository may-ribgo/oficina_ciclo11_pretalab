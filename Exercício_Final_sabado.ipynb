{
  "nbformat": 4,
  "nbformat_minor": 0,
  "metadata": {
    "colab": {
      "provenance": [],
      "include_colab_link": true
    },
    "kernelspec": {
      "name": "python3",
      "display_name": "Python 3"
    },
    "language_info": {
      "name": "python"
    }
  },
  "cells": [
    {
      "cell_type": "markdown",
      "metadata": {
        "id": "view-in-github",
        "colab_type": "text"
      },
      "source": [
        "<a href=\"https://colab.research.google.com/github/may-ribgo/oficina_ciclo11_pretalab/blob/main/Exerc%C3%ADcio_Final_sabado.ipynb\" target=\"_parent\"><img src=\"https://colab.research.google.com/assets/colab-badge.svg\" alt=\"Open In Colab\"/></a>"
      ]
    },
    {
      "cell_type": "markdown",
      "source": [
        "# Contagem de Medalhas\n",
        "\n",
        "Crie um programa que receba o número de medalhas de ouro, prata e bronze de um país nas Olimpíadas e calcule o total de medalhas.\n",
        "Quando escrever 'sair', o programa deverá encerrar e mostrar na tela o ranking de medalhas no formato:"
      ],
      "metadata": {
        "id": "RQN1e5FZY6SZ"
      }
    },
    {
      "cell_type": "code",
      "source": [
        "#Ranking de medalhas:\n",
        "#Brasil: 7 medalhas\n",
        "#França: 6 medalhas\n",
        "#Argentina: 3 medalhas"
      ],
      "metadata": {
        "id": "gCq_KLHzZSzb"
      },
      "execution_count": null,
      "outputs": []
    },
    {
      "cell_type": "code",
      "execution_count": null,
      "metadata": {
        "id": "AJJhjxiPTd5s"
      },
      "outputs": [],
      "source": [
        "# Resposta aqui\n",
        "Ouro_brasil = int(input('Medalhas de ouro do Brasil:' ))\n",
        "Prata_brasil = int(input('Medalhas de prata do Brasil:' ))\n",
        "Bronze_brasil = int(input('Medalhas de bronze do Brasil:' ))\n",
        "total_brasil = [Ouro_brasil + Prata_brasil + Bronze_brasil]\n",
        "soma1 = sum(total_brasil)\n",
        "print (f'Total medalhas do Brasil: {soma1}')\n",
        "\n",
        "\n",
        "Ouro_franca = int(input('Medalhas de ouro do França:' ))\n",
        "Prata_franca = int(input('Medalhas de prata do França:' ))\n",
        "Bronze_franca = int(input('Medalhas de bronze do França:' ))\n",
        "total_franca = [Ouro_franca + Prata_franca + Bronze_franca]\n",
        "soma2 = sum(total_franca)\n",
        "print (f'Total medalhas da França: {soma2}')\n",
        "\n",
        "Ouro_Nepal = int(input('Medalhas de ouro do Nepal:' ))\n",
        "Prata_Nepal = int(input('Medalhas de prata do Nepal:' ))\n",
        "Bronze_Nepal = int(input('Medalhas de bronze do Nepal:' ))\n",
        "total_Nepal = [Ouro_Nepal + Prata_Nepal + Bronze_Nepal]\n",
        "soma3 = sum(total_Nepal)\n",
        "print (f'Total medalhas do Nepal: {soma3}')\n",
        "\n",
        "def Ranking():\n",
        "    print('Ranking de medalhas:')\n",
        "\n",
        "print = input('Acabou os países participantes das Olimpiadas, deseja sair? ')\n",
        "5\n",
        "\n",
        "\n",
        "\n"
      ]
    }
  ]
}